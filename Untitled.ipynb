{
 "cells": [
  {
   "cell_type": "code",
   "execution_count": null,
   "metadata": {},
   "outputs": [],
   "source": [
    "salam maleykom azizaye delam"
   ]
  },
  {
   "cell_type": "code",
   "execution_count": null,
   "metadata": {},
   "outputs": [],
   "source": [
    "from datetime import datetime\n",
    "time_format = \"%d%b%Y %H:%M\"\n",
    "datetime.now().strftime(time_format)"
   ]
  },
  {
   "cell_type": "code",
   "execution_count": null,
   "metadata": {},
   "outputs": [],
   "source": [
    "import covsirphy as cs\n",
    "# cs.__version__\n",
    "cs.get_version()"
   ]
  },
  {
   "cell_type": "code",
   "execution_count": null,
   "metadata": {},
   "outputs": [],
   "source": [
    "from collections import defaultdict\n",
    "from datetime import timedelta\n",
    "from dateutil.relativedelta import relativedelta\n",
    "import functools\n",
    "from IPython.display import display, Markdown\n",
    "import math\n",
    "import os\n",
    "from pprint import pprint\n",
    "import matplotlib.pyplot as plt\n",
    "import matplotlib.cm as cm\n",
    "import matplotlib\n",
    "from matplotlib.ticker import ScalarFormatter\n",
    "%matplotlib inline\n",
    "import numpy as np\n",
    "import pandas as pd\n",
    "import dask.dataframe as dd\n",
    "pd.plotting.register_matplotlib_converters()\n",
    "import seaborn as sns\n",
    "import scipy as sci\n",
    "from sklearn.feature_extraction.text import TfidfVectorizer\n",
    "from sklearn.cluster import KMeans\n",
    "import sympy as sym"
   ]
  },
  {
   "cell_type": "code",
   "execution_count": null,
   "metadata": {},
   "outputs": [],
   "source": [
    "# Create instance of covsirphy.DataLoader class\n",
    "data_loader = cs.DataLoader(directory=\"kaggle/input\")\n",
    "# Retrieve the dataset of the number of COVID-19 cases\n",
    "# Kaggle platform: covid19dh.csv will be saved in /output/kaggle/working/input\n",
    "# Local env: covid19dg.cv will be saved in /input\n",
    "jhu_data = data_loader.jhu()\n"
   ]
  },
  {
   "cell_type": "code",
   "execution_count": null,
   "metadata": {},
   "outputs": [],
   "source": [
    "jhu_data.cleaned().tail(10)"
   ]
  },
  {
   "cell_type": "code",
   "execution_count": null,
   "metadata": {},
   "outputs": [],
   "source": [
    "jhu_data.subset(\"Ukraine\", province=None).tail()"
   ]
  },
  {
   "cell_type": "code",
   "execution_count": null,
   "metadata": {},
   "outputs": [],
   "source": [
    "df = jhu_data.cleaned()\n",
    "jhu_first_date, jhu_last_date = df[\"Date\"].min(), df[\"Date\"].max()\n",
    "jhu_elapsed = (jhu_last_date - jhu_first_date).days\n",
    "print(f\"{jhu_elapsed} days have passed from the date of the first record.\")"
   ]
  },
  {
   "cell_type": "code",
   "execution_count": null,
   "metadata": {},
   "outputs": [],
   "source": [
    "# Data cleaning of Japan-specific dataset\n",
    "ukre_data = cs.CountryData(\"UkraineData1.csv\", country=\"Ukraine\")\n",
    "# Set variables because the raw dataset does not have the same column names as that of jhu_data\n",
    "ukre_data.set_variables(\n",
    "    date=\"date\", confirmed=\"new_cases\", fatal=\"new_deaths\", recovered=\"recovered\", province=None\n",
    ")\n",
    "# Note: when we do not have this CSV file registered in Kaggle, we can download with\n",
    "# ukre_data = data_loader.japan()"
   ]
  },
  {
   "cell_type": "code",
   "execution_count": null,
   "metadata": {},
   "outputs": [],
   "source": [
    "# We can use a method of cs.DataLoader()\n",
    "population_data = data_loader.population()\n",
    "# Show cleaned dataset\n",
    "population_data.cleaned().tail(10)"
   ]
  },
  {
   "cell_type": "code",
   "execution_count": null,
   "metadata": {},
   "outputs": [],
   "source": [
    "ita_scenario = cs.Scenario(jhu_data, population_data, \"Ukraine\")\n",
    "_ = ita_scenario.trend()"
   ]
  }
 ],
 "metadata": {
  "kernelspec": {
   "display_name": "Python 3",
   "language": "python",
   "name": "python3"
  },
  "language_info": {
   "codemirror_mode": {
    "name": "ipython",
    "version": 3
   },
   "file_extension": ".py",
   "mimetype": "text/x-python",
   "name": "python",
   "nbconvert_exporter": "python",
   "pygments_lexer": "ipython3",
   "version": "3.8.1"
  }
 },
 "nbformat": 4,
 "nbformat_minor": 2
}
